{
 "cells": [
  {
   "cell_type": "code",
   "execution_count": null,
   "metadata": {},
   "outputs": [],
   "source": [
    "import pandas as pd\n",
    "import re"
   ]
  },
  {
   "cell_type": "markdown",
   "metadata": {},
   "source": [
    "Read data"
   ]
  },
  {
   "cell_type": "code",
   "execution_count": null,
   "metadata": {},
   "outputs": [],
   "source": [
    "column_names = [\"NaturalLanguageID\", \"ProgrammingLanguageID\", \"RepoID\", \"SourceID\", \"CommentID\", \"Comment\", \"ClassM\", \"ClassA\"]\n",
    "corpus = pd.read_excel(\"./data/Comment_categorization_corpus_final.xlsx\", header = None, names=column_names, dtype=\"string\")"
   ]
  },
  {
   "cell_type": "code",
   "execution_count": null,
   "metadata": {},
   "outputs": [],
   "source": [
    "corpus.ClassM = corpus.ClassM.str.lower()\n",
    "corpus.ClassA = corpus.ClassA.str.lower()"
   ]
  },
  {
   "cell_type": "markdown",
   "metadata": {},
   "source": [
    "Preprocessing"
   ]
  },
  {
   "cell_type": "code",
   "execution_count": null,
   "metadata": {},
   "outputs": [],
   "source": [
    "# Replace all whitspace characters with a single space.\n",
    "corpus.Comment.replace(to_replace=\"\\\\\\\\n\", value=\" \", inplace=True, regex=True)\n",
    "corpus.Comment.replace(to_replace=\"\\\\\\\\t\", value=\" \", inplace=True, regex=True)"
   ]
  },
  {
   "cell_type": "code",
   "execution_count": null,
   "metadata": {},
   "outputs": [],
   "source": [
    "# Replace all whitspace characters with a single space.\n",
    "corpus.Comment.replace(to_replace=\"\\s+\", value=\" \", inplace=True, regex=True)"
   ]
  },
  {
   "cell_type": "code",
   "execution_count": null,
   "metadata": {},
   "outputs": [],
   "source": [
    "# Strip\n",
    "corpus.Comment = corpus.Comment.str.strip()"
   ]
  },
  {
   "cell_type": "code",
   "execution_count": null,
   "metadata": {},
   "outputs": [],
   "source": [
    "# Replace three or more appearances of a character in a row with a single character.\n",
    "def shrink(comment):\n",
    "    try:\n",
    "        return re.sub(r\"(.)\\1{2,}\", r\"\\1\", comment)\n",
    "    except:\n",
    "        print(\"Exception shrinking comment:\", comment)\n",
    "        return comment\n",
    "\n",
    "corpus.Comment = corpus.Comment.apply(shrink)"
   ]
  },
  {
   "cell_type": "code",
   "execution_count": null,
   "metadata": {},
   "outputs": [],
   "source": [
    "corpus[\"y8\"] = corpus[\"ClassM\"]\n",
    "corpus[\"y6\"] = corpus[\"y8\"].apply(lambda category: \"functional\" if category.startswith(\"functional\") else category)\n",
    "corpus[\"y2\"] = corpus[\"y8\"].apply(lambda category: \"functional\" if category.startswith(\"functional\") else \"non-functional\")"
   ]
  },
  {
   "cell_type": "code",
   "execution_count": null,
   "metadata": {},
   "outputs": [],
   "source": [
    "corpus[[\"NaturalLanguageID\", \"ProgrammingLanguageID\", \"Comment\", \"ClassM\", \"ClassA\", \"y8\", \"y6\", \"y2\"]].to_csv(\"./data/corpus.csv\", index=False)"
   ]
  }
 ],
 "metadata": {
  "interpreter": {
   "hash": "b2ceb1ccfe8f188055654f2a851d9fca6bdd92b63e75d4c82f752bb3d2a240bd"
  },
  "kernelspec": {
   "display_name": "Python 3.9.12 64-bit",
   "language": "python",
   "name": "python3"
  },
  "language_info": {
   "codemirror_mode": {
    "name": "ipython",
    "version": 3
   },
   "file_extension": ".py",
   "mimetype": "text/x-python",
   "name": "python",
   "nbconvert_exporter": "python",
   "pygments_lexer": "ipython3",
   "version": "3.9.12"
  },
  "orig_nbformat": 4
 },
 "nbformat": 4,
 "nbformat_minor": 2
}
